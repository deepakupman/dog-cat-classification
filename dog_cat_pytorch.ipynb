{
  "nbformat": 4,
  "nbformat_minor": 0,
  "metadata": {
    "colab": {
      "name": "dog_cat_pytorch.ipynb",
      "version": "0.3.2",
      "provenance": [],
      "collapsed_sections": [],
      "include_colab_link": true
    },
    "kernelspec": {
      "name": "python3",
      "display_name": "Python 3"
    },
    "accelerator": "GPU"
  },
  "cells": [
    {
      "cell_type": "markdown",
      "metadata": {
        "id": "view-in-github",
        "colab_type": "text"
      },
      "source": [
        "<a href=\"https://colab.research.google.com/github/deepakupman/dogs_and_cats/blob/master/dog_cat_pytorch.ipynb\" target=\"_parent\"><img src=\"https://colab.research.google.com/assets/colab-badge.svg\" alt=\"Open In Colab\"/></a>"
      ]
    },
    {
      "metadata": {
        "id": "h8eNj0dU_Hrk",
        "colab_type": "code",
        "colab": {
          "base_uri": "https://localhost:8080/",
          "height": 129
        },
        "outputId": "196bfd1d-0ed1-408e-b3a9-67676d33aef5"
      },
      "cell_type": "code",
      "source": [
        "from google.colab import drive\n",
        "drive.mount(\"/content/gdrive\")"
      ],
      "execution_count": 1,
      "outputs": [
        {
          "output_type": "stream",
          "text": [
            "Go to this URL in a browser: https://accounts.google.com/o/oauth2/auth?client_id=947318989803-6bn6qk8qdgf4n4g3pfee6491hc0brc4i.apps.googleusercontent.com&redirect_uri=urn%3Aietf%3Awg%3Aoauth%3A2.0%3Aoob&scope=email%20https%3A%2F%2Fwww.googleapis.com%2Fauth%2Fdocs.test%20https%3A%2F%2Fwww.googleapis.com%2Fauth%2Fdrive%20https%3A%2F%2Fwww.googleapis.com%2Fauth%2Fdrive.photos.readonly%20https%3A%2F%2Fwww.googleapis.com%2Fauth%2Fpeopleapi.readonly&response_type=code\n",
            "\n",
            "Enter your authorization code:\n",
            "··········\n",
            "Mounted at /content/gdrive\n"
          ],
          "name": "stdout"
        }
      ]
    },
    {
      "metadata": {
        "id": "b8BhuTx-_azP",
        "colab_type": "code",
        "colab": {
          "base_uri": "https://localhost:8080/",
          "height": 35
        },
        "outputId": "63a6665e-2722-4d42-b79b-c6899123ef2f"
      },
      "cell_type": "code",
      "source": [
        "import torch\n",
        "from torchvision import datasets, transforms\n",
        "gpu_available = torch.cuda.is_available()\n",
        "if gpu_available:\n",
        "    print(\"Training on GPU\")"
      ],
      "execution_count": 2,
      "outputs": [
        {
          "output_type": "stream",
          "text": [
            "Training on GPU\n"
          ],
          "name": "stdout"
        }
      ]
    },
    {
      "metadata": {
        "id": "pvZYNwTwAHY0",
        "colab_type": "code",
        "colab": {}
      },
      "cell_type": "code",
      "source": [
        "data_dir = \"/content/gdrive/My Drive/dataset/cat_dog_ds\"\n",
        "batch_size = 32\n",
        "transform = transforms.Compose([transforms.RandomRotation(30),\n",
        "                                transforms.Resize(256),\n",
        "                                transforms.RandomCrop(224),\n",
        "                                transforms.RandomHorizontalFlip(),\n",
        "                                transforms.RandomVerticalFlip(),\n",
        "                                transforms.ToTensor(),\n",
        "                                transforms.Normalize([0.5,0.5,0.5],[0.5,0.5,0.5])])\n",
        "\n",
        "train_data = datasets.ImageFolder(data_dir + \"/training_set/\", transform=transform)\n",
        "test_data = datasets.ImageFolder(data_dir + \"/test_set/\", transform=transform)\n",
        "\n",
        "train_loader = torch.utils.data.DataLoader(train_data, batch_size=batch_size, shuffle=True)\n",
        "test_loader = torch.utils.data.DataLoader(test_data, batch_size=batch_size, shuffle=True)"
      ],
      "execution_count": 0,
      "outputs": []
    },
    {
      "metadata": {
        "id": "gRtT_QcUAQkA",
        "colab_type": "code",
        "colab": {}
      },
      "cell_type": "code",
      "source": [
        "img, lbl = next(iter(train_loader))"
      ],
      "execution_count": 0,
      "outputs": []
    },
    {
      "metadata": {
        "id": "1wVG3pSXAivE",
        "colab_type": "code",
        "colab": {
          "base_uri": "https://localhost:8080/",
          "height": 35
        },
        "outputId": "c2c4784e-a6d7-4694-a003-76b1039a6afb"
      },
      "cell_type": "code",
      "source": [
        "img.size()"
      ],
      "execution_count": 8,
      "outputs": [
        {
          "output_type": "execute_result",
          "data": {
            "text/plain": [
              "torch.Size([32, 3, 224, 224])"
            ]
          },
          "metadata": {
            "tags": []
          },
          "execution_count": 8
        }
      ]
    },
    {
      "metadata": {
        "id": "L5GfmHBOAlek",
        "colab_type": "code",
        "colab": {}
      },
      "cell_type": "code",
      "source": [
        "from torch import nn\n",
        "from torch import optim\n",
        "import torch.nn.functional as F"
      ],
      "execution_count": 0,
      "outputs": []
    },
    {
      "metadata": {
        "id": "ob62wRTCAoN2",
        "colab_type": "code",
        "colab": {}
      },
      "cell_type": "code",
      "source": [
        "class Model(nn.Module):\n",
        "    def __init__(self):\n",
        "        super().__init__()\n",
        "        \n",
        "        # convolution layers\n",
        "        self.conv1 = nn.Conv2d(3, 16, 3)\n",
        "        self.conv2 = nn.Conv2d(16, 32, 3)\n",
        "        self.conv3 = nn.Conv2d(32, 64, 3)\n",
        "        \n",
        "        # pooling layer\n",
        "        self.pool = nn.MaxPool2d(2,2)\n",
        "        \n",
        "        # fully connected layers\n",
        "        self.fc1 = nn.Linear(64*26*26, 512)\n",
        "        \n",
        "        # dropout layer\n",
        "        self.dropout = nn.Dropout(0.3)\n",
        "        \n",
        "        self.fc2 = nn.Linear(512, 2)\n",
        "        \n",
        "    def forward(self, x):\n",
        "        x = self.pool(F.relu(self.conv1(x)))\n",
        "        x = self.pool(F.relu(self.conv2(x)))\n",
        "        x = self.pool(F.relu(self.conv3(x)))\n",
        "        # flatten the layer\n",
        "        x = x.view(-1, 64 * 26 * 26)\n",
        "        \n",
        "        x = self.dropout(F.relu(self.fc1(x)))\n",
        "        \n",
        "        return x"
      ],
      "execution_count": 0,
      "outputs": []
    },
    {
      "metadata": {
        "id": "FdVUAxunAqfa",
        "colab_type": "code",
        "colab": {
          "base_uri": "https://localhost:8080/",
          "height": 182
        },
        "outputId": "9288327b-c34f-4e6c-f623-9c5e4c3e3f81"
      },
      "cell_type": "code",
      "source": [
        "model = Model()\n",
        "# loss\n",
        "criterion = nn.CrossEntropyLoss()\n",
        "# optimizer\n",
        "opt = optim.Adam(model.parameters(), lr=0.01)\n",
        "print(model)\n",
        "if gpu_available:\n",
        "    model.cuda()"
      ],
      "execution_count": 11,
      "outputs": [
        {
          "output_type": "stream",
          "text": [
            "Model(\n",
            "  (conv1): Conv2d(3, 16, kernel_size=(3, 3), stride=(1, 1))\n",
            "  (conv2): Conv2d(16, 32, kernel_size=(3, 3), stride=(1, 1))\n",
            "  (conv3): Conv2d(32, 64, kernel_size=(3, 3), stride=(1, 1))\n",
            "  (pool): MaxPool2d(kernel_size=2, stride=2, padding=0, dilation=1, ceil_mode=False)\n",
            "  (fc1): Linear(in_features=43264, out_features=512, bias=True)\n",
            "  (dropout): Dropout(p=0.3)\n",
            "  (fc2): Linear(in_features=512, out_features=2, bias=True)\n",
            ")\n"
          ],
          "name": "stdout"
        }
      ]
    },
    {
      "metadata": {
        "id": "-FolwqqdAuzs",
        "colab_type": "code",
        "colab": {
          "base_uri": "https://localhost:8080/",
          "height": 109
        },
        "outputId": "d0c3df0e-ddb0-4b9e-a799-f024872f0858"
      },
      "cell_type": "code",
      "source": [
        "# epochs\n",
        "for e in range(5):\n",
        "  \n",
        "  # keep track of train and validation loss\n",
        "  train_loss = 0.0\n",
        "  valid_loss = 0.0\n",
        "  \n",
        "  # enable training mode\n",
        "  model.train()\n",
        "  \n",
        "  # train the model\n",
        "  for image, label in train_loader:\n",
        "    # check for GPU\n",
        "    if gpu_available:\n",
        "        image, label = image.cuda(), label.cuda()\n",
        "    # make gradient zero\n",
        "    opt.zero_grad()\n",
        "    # get output\n",
        "    out = model(image)\n",
        "    # calc. loss\n",
        "    loss = criterion(out, label)\n",
        "    # backward propagation\n",
        "    loss.backward()\n",
        "    # calculate gradient descent\n",
        "    opt.step()\n",
        "    # add train loss\n",
        "    train_loss += loss.item() * image.size(0)\n",
        "      \n",
        "  # valid the model\n",
        "#   for img, lbl in valid_loader:\n",
        "#     # check for gpu\n",
        "#     if gpu_available:\n",
        "#       img, lbl = img.cuda(), lbl.cuda()\n",
        "#     # get output\n",
        "#     output = model(img)\n",
        "#     # calculate loss\n",
        "#     loss = criterion(output, lbl)\n",
        "#     # add valid loss\n",
        "#     valid_loss += loss.item() * img.size(0)\n",
        "\n",
        "  # calculate average loss\n",
        "  train_loss = train_loss / len(train_loader.dataset)\n",
        "#   valid_loss = valid_loss / len(valid_loader.dataset)\n",
        "  \n",
        "  print(\"Epoch: {}\".format(e+1),\n",
        "        \"Loss: {}\".format(train_loss))\n",
        "#         \"Valid Loss: {}\".format(valid_loss))"
      ],
      "execution_count": 12,
      "outputs": [
        {
          "output_type": "stream",
          "text": [
            "Epoch: 1 Loss: 2.7856293592453003\n",
            "Epoch: 2 Loss: 2.6733514623750447\n",
            "Epoch: 3 Loss: 2.7224458341816677\n",
            "Epoch: 4 Loss: 2.651903128786447\n",
            "Epoch: 5 Loss: 2.65997447514238\n"
          ],
          "name": "stdout"
        }
      ]
    },
    {
      "metadata": {
        "id": "ADTCJ8GNA7Pr",
        "colab_type": "code",
        "colab": {}
      },
      "cell_type": "code",
      "source": [
        ""
      ],
      "execution_count": 0,
      "outputs": []
    }
  ]
}